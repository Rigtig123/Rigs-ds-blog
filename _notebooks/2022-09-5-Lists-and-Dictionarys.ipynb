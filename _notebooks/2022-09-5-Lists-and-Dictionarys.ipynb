{
 "cells": [
  {
   "cell_type": "markdown",
   "metadata": {},
   "source": [
    "Lists and Dictionaries (In-Class)\n",
    " Variables all have a type: String, Integer, Float, List and Dictionary are some key types. In Python, variables are given a type at assignment, Types are important to understand and will impact operations, as we saw when we were required to user str() function in concatenation.\n"
   ]
  },
  {
   "cell_type": "code",
   "execution_count": 2,
   "metadata": {},
   "outputs": [
    {
     "name": "stdout",
     "output_type": "stream",
     "text": [
      "What is the variable name/key? value? type? primitive or collection, why?\n",
      "name Luke Riggins <class 'str'>\n",
      "\n",
      "What is the variable name/key? value? type? primitive or collection, why?\n",
      "age 17 <class 'int'>\n",
      "\n",
      "What is the variable name/key? value? type? primitive or collection, why?\n",
      "score 90.0 <class 'float'>\n",
      "\n",
      "What is variable name/key? value? type? primitive or collection?\n",
      "What is different about the list output?\n",
      "langs ['Python', 'JavaScript', 'Java', 'Bash'] <class 'list'> length 4\n",
      "- langs[3] Bash <class 'str'>\n",
      "\n",
      "What is the variable name/key? value? type? primitive or collection, why?\n",
      "What is different about the dictionary output?\n",
      "person {'name': 'Luke Riggins', 'age': 17, 'score': 90.0, 'langs': ['Python', 'JavaScript', 'Java', 'Bash']} <class 'dict'> length 4\n",
      "- person[\"name\"] Luke Riggins <class 'str'>\n"
     ]
    }
   ],
   "source": [
    "# variable of type string\n",
    "print(\"What is the variable name/key?\", \"value?\", \"type?\", \"primitive or collection, why?\")\n",
    "name = \"Luke Riggins\"\n",
    "print(\"name\", name, type(name))\n",
    "\n",
    "print()\n",
    "\n",
    "\n",
    "# variable of type integer\n",
    "print(\"What is the variable name/key?\", \"value?\", \"type?\", \"primitive or collection, why?\")\n",
    "age = 17\n",
    "print(\"age\", age, type(age))\n",
    "\n",
    "print()\n",
    "\n",
    "# variable of type float\n",
    "print(\"What is the variable name/key?\", \"value?\", \"type?\", \"primitive or collection, why?\")\n",
    "score = 90.0\n",
    "print(\"score\", score, type(score))\n",
    "\n",
    "print()\n",
    "\n",
    "# variable of type list (many values in one variable)\n",
    "print(\"What is variable name/key?\", \"value?\", \"type?\", \"primitive or collection?\")\n",
    "print(\"What is different about the list output?\")\n",
    "langs = [\"Python\", \"JavaScript\", \"Java\", \"Bash\"] # *I added bash as a language*\n",
    "print(\"langs\", langs, type(langs), \"length\", len(langs))\n",
    "print(\"- langs[3]\", langs[3], type(langs[3])) # *I changed the index from 0 to 3 so that the print command will print Bash instead of Python*\n",
    "\n",
    "print()\n",
    "\n",
    "# variable of type dictionary (a group of keys and values)\n",
    "print(\"What is the variable name/key?\", \"value?\", \"type?\", \"primitive or collection, why?\")\n",
    "print(\"What is different about the dictionary output?\")\n",
    "person = {\n",
    "    \"name\": name,\n",
    "    \"age\": age,\n",
    "    \"score\": score,\n",
    "    \"langs\": langs\n",
    "}\n",
    "print(\"person\", person, type(person), \"length\", len(person))\n",
    "print('- person[\"name\"]', person[\"name\"], type(person[\"name\"]))"
   ]
  },
  {
   "cell_type": "code",
   "execution_count": 3,
   "metadata": {},
   "outputs": [
    {
     "name": "stdout",
     "output_type": "stream",
     "text": [
      "[{'FirstName': 'John', 'LastName': 'Mortensen', 'DOB': 'October 21', 'Residence': 'San Diego', 'Email': 'jmortensen@powayusd.com', 'Owns_Cars': ['2015-Fusion', '2011-Ranger', '2003-Excursion', '1997-F350', '1969-Cadillac']}, {'FirstName': 'Luke', 'LastName': 'Riggins', 'DOB': 'December 2', 'Residence': 'San Diego', 'Email': 'luker56233@powayusd.com', 'Owns_Cars': ['Volkswagon Passat']}, {'FirstName': 'Luke', 'LastName': 'Riggins', 'DOB': 'December 2', 'Residence': 'Rancho Bernardo', 'Email': 'luke120204@gmail.com', 'Owns_Cars': ['Toyota']}, {'FirstName': 'Jeffery', 'LastName': 'Lee', 'DOB': 'December 27', 'Residence': '4S Ranch', 'Email': 'jefferyl56783@stu.powayusd.com', 'Owns_Cars': ['Honda Accord']}]\n"
     ]
    }
   ],
   "source": [
    "InfoDb = []\n",
    "\n",
    "# InfoDB is a data structure with expected Keys and Values\n",
    "\n",
    "# Append to List a Dictionary of key/values related to a person and cars\n",
    "InfoDb.append({\n",
    "    \"FirstName\": \"John\",\n",
    "    \"LastName\": \"Mortensen\",\n",
    "    \"DOB\": \"October 21\",\n",
    "    \"Residence\": \"San Diego\",\n",
    "    \"Email\": \"jmortensen@powayusd.com\",\n",
    "    \"Owns_Cars\": [\"2015-Fusion\", \"2011-Ranger\", \"2003-Excursion\", \"1997-F350\", \"1969-Cadillac\"]\n",
    "})\n",
    "\n",
    "# Append to List a 2nd Dictionary of key/values\n",
    "InfoDb.append({\n",
    "    \"FirstName\": \"Luke\",\n",
    "    \"LastName\": \"Riggins\",\n",
    "    \"DOB\": \"December 2\",\n",
    "    \"Residence\": \"San Diego\",\n",
    "    \"Email\": \"luker56233@powayusd.com\",\n",
    "    \"Owns_Cars\": [\"Volkswagon Passat\"]\n",
    "})\n",
    "\n",
    "# PUTTING MY INFORMATION (HACK!)\n",
    "InfoDb.append({\n",
    "    \"FirstName\": \"Luke\",\n",
    "    \"LastName\": \"Riggins\",\n",
    "    \"DOB\": \"December 2\",\n",
    "    \"Residence\": \"Rancho Bernardo\",\n",
    "    \"Email\": \"luke120204@gmail.com\",\n",
    "    \"Owns_Cars\": [\"Toyota\"]\n",
    "})\n",
    "\n",
    "# PUTTING MY PARTER'S INFORMATION (HACK!)\n",
    "InfoDb.append({\n",
    "    \"FirstName\": \"Jeffery\",\n",
    "    \"LastName\": \"Lee\",\n",
    "    \"DOB\": \"December 27\",\n",
    "    \"Residence\": \"4S Ranch\",\n",
    "    \"Email\": \"jefferyl56783@stu.powayusd.com\",\n",
    "    \"Owns_Cars\": [\"Honda Accord\"]\n",
    "})\n",
    "\n",
    "# Print the data structure\n",
    "print(InfoDb)"
   ]
  },
  {
   "cell_type": "markdown",
   "metadata": {},
   "source": []
  },
  {
   "cell_type": "markdown",
   "metadata": {},
   "source": [
    "Formatted output of List/Dictionary - for loop\n",
    "Managing data in Lists and Dictionaries is for the convenience of passing the data across the internet, to applications, or preparing it to be stored into a database. It is a great way to exchange data between programs and programmers. Exchange of data between programs includes the data type the method/function and the format of the data type. These concepts are key to learning how to write functions, receive, and return data. This process is often referred to as an Application Programming Interface (API).\n",
    "\n",
    "Next, we will take the stored data and output it within our notebook. There are multiple steps to this process...\n",
    "\n",
    "Preparing a function to format the data, the print_data() function receives a parameter called \"d_rec\" short for dictionary record. It then references different keys within [] square brackets.\n",
    "Preparing a function to iterate through the list, the for_loop() function uses an enhanced for loop that pull record by record out of InfoDb until the list is empty. Each time through the loop it call print_data(record), which passes the dictionary record to that function.\n",
    "Finally, you need to activate your function with the call to the defined function for_loop(). Functions are defined, not activated until they are called. By placing for_loop() at the left margin the function is activated."
   ]
  },
  {
   "cell_type": "code",
   "execution_count": 4,
   "metadata": {},
   "outputs": [
    {
     "name": "stdout",
     "output_type": "stream",
     "text": [
      "For loop output\n",
      "\n",
      "John Mortensen\n",
      "\t Residence: San Diego\n",
      "\t Birth Day: October 21\n",
      "\t Cars: 2015-Fusion, 2011-Ranger, 2003-Excursion, 1997-F350, 1969-Cadillac\n",
      "\n",
      "Luke Riggins\n",
      "\t Residence: San Diego\n",
      "\t Birth Day: December 2\n",
      "\t Cars: Volkswagon Passat\n",
      "\n",
      "Luke Riggins\n",
      "\t Residence: Rancho Bernardo\n",
      "\t Birth Day: December 2\n",
      "\t Cars: Toyota\n",
      "\n",
      "Jeffery Lee\n",
      "\t Residence: 4S Ranch\n",
      "\t Birth Day: December 27\n",
      "\t Cars: Honda Accord\n",
      "\n"
     ]
    }
   ],
   "source": [
    "# print function: given a dictionary of InfoDb content\n",
    "def print_data(d_rec):\n",
    "    print(d_rec[\"FirstName\"], d_rec[\"LastName\"])  # using comma puts space between values\n",
    "    print(\"\\t\", \"Residence:\", d_rec[\"Residence\"]) # \\t is a tab indent\n",
    "    print(\"\\t\", \"Birth Day:\", d_rec[\"DOB\"])\n",
    "    print(\"\\t\", \"Cars: \", end=\"\")  # end=\"\" make sure no return occurs\n",
    "    print(\", \".join(d_rec[\"Owns_Cars\"]))  # join allows printing a string list with separator\n",
    "    print()\n",
    "\n",
    "\n",
    "# for loop algorithm iterates on length of InfoDb\n",
    "def for_loop():\n",
    "    print(\"For loop output\\n\")\n",
    "    for record in InfoDb:\n",
    "        print_data(record)\n",
    "\n",
    "for_loop()"
   ]
  },
  {
   "cell_type": "markdown",
   "metadata": {},
   "source": [
    "Formatted output of List/Dictionary - for loop\n",
    "\n",
    "- Prepare a function to format the data\n",
    "\n",
    "- Prepare a function to iterate through the list\n",
    "\n",
    "- Activate your function \n"
   ]
  },
  {
   "cell_type": "code",
   "execution_count": 5,
   "metadata": {},
   "outputs": [
    {
     "name": "stdout",
     "output_type": "stream",
     "text": [
      "For loop output\n",
      "\n",
      "John Mortensen\n",
      "\t Residence: San Diego\n",
      "\t Birth Day: October 21\n",
      "\t Cars: 2015-Fusion, 2011-Ranger, 2003-Excursion, 1997-F350, 1969-Cadillac\n",
      "\n",
      "Luke Riggins\n",
      "\t Residence: San Diego\n",
      "\t Birth Day: December 2\n",
      "\t Cars: Volkswagon Passat\n",
      "\n",
      "Luke Riggins\n",
      "\t Residence: Rancho Bernardo\n",
      "\t Birth Day: December 2\n",
      "\t Cars: Toyota\n",
      "\n",
      "Jeffery Lee\n",
      "\t Residence: 4S Ranch\n",
      "\t Birth Day: December 27\n",
      "\t Cars: Honda Accord\n",
      "\n"
     ]
    }
   ],
   "source": [
    "# print function: given a dictionary of InfoDb content\n",
    "def print_data(d_rec):\n",
    "    print(d_rec[\"FirstName\"], d_rec[\"LastName\"])  # using comma puts space between values\n",
    "    print(\"\\t\", \"Residence:\", d_rec[\"Residence\"]) # \\t is a tab indent\n",
    "    print(\"\\t\", \"Birth Day:\", d_rec[\"DOB\"])\n",
    "    print(\"\\t\", \"Cars: \", end=\"\")  # end=\"\" make sure no return occurs\n",
    "    print(\", \".join(d_rec[\"Owns_Cars\"]))  # join allows printing a string list with separator\n",
    "    print()\n",
    "\n",
    "\n",
    "# for loop algorithm iterates on length of InfoDb\n",
    "def for_loop():\n",
    "    print(\"For loop output\\n\")\n",
    "    for record in InfoDb:\n",
    "        print_data(record)\n",
    "\n",
    "for_loop()"
   ]
  },
  {
   "cell_type": "markdown",
   "metadata": {},
   "source": [
    "Alternate methods for iteration - while loop\n",
    "\n",
    "The while_loop() function contains a while loop, \"while i < len(InfoDb):\". This counts through the elements in the list start at zero, and passes the record to print_data()"
   ]
  },
  {
   "cell_type": "code",
   "execution_count": 6,
   "metadata": {},
   "outputs": [
    {
     "name": "stdout",
     "output_type": "stream",
     "text": [
      "While loop output\n",
      "\n",
      "John Mortensen\n",
      "\t Residence: San Diego\n",
      "\t Birth Day: October 21\n",
      "\t Cars: 2015-Fusion, 2011-Ranger, 2003-Excursion, 1997-F350, 1969-Cadillac\n",
      "\n",
      "Luke Riggins\n",
      "\t Residence: San Diego\n",
      "\t Birth Day: December 2\n",
      "\t Cars: Volkswagon Passat\n",
      "\n",
      "Luke Riggins\n",
      "\t Residence: Rancho Bernardo\n",
      "\t Birth Day: December 2\n",
      "\t Cars: Toyota\n",
      "\n",
      "Jeffery Lee\n",
      "\t Residence: 4S Ranch\n",
      "\t Birth Day: December 27\n",
      "\t Cars: Honda Accord\n",
      "\n"
     ]
    }
   ],
   "source": [
    "# while loop algorithm contains an initial n and an index incrementing statement (n += 1)\n",
    "def while_loop():\n",
    "    print(\"While loop output\\n\")\n",
    "    i = 0\n",
    "    while i < len(InfoDb):\n",
    "        record = InfoDb[i]\n",
    "        print_data(record)\n",
    "        i += 1\n",
    "    return\n",
    "\n",
    "while_loop()"
   ]
  },
  {
   "cell_type": "markdown",
   "metadata": {},
   "source": [
    "Recursion\n",
    "\n",
    "recursive_loop(i) function is primed with the value 0 on its activation with \"recursive_loop(0)\"\n",
    "\n",
    "ultimately the \"if i < len(InfoDb):\" will evaluate to false and the program ends\n"
   ]
  },
  {
   "cell_type": "code",
   "execution_count": null,
   "metadata": {},
   "outputs": [],
   "source": [
    "# recursion algorithm loops incrementing on each call (n + 1) until exit condition is met\n",
    "def recursive_loop(i):\n",
    "    if i < len(InfoDb):\n",
    "        record = InfoDb[i]\n",
    "        print_data(record)\n",
    "        recursive_loop(i + 1)\n",
    "    return\n",
    "    \n",
    "print(\"Recursive loop output\\n\")\n",
    "recursive_loop(0)"
   ]
  },
  {
   "cell_type": "markdown",
   "metadata": {},
   "source": [
    "Creating a For Loop with Index"
   ]
  },
  {
   "cell_type": "code",
   "execution_count": 7,
   "metadata": {},
   "outputs": [
    {
     "name": "stdout",
     "output_type": "stream",
     "text": [
      "Record #1: John Mortensen\n",
      "\t Residence: San Diego\n",
      "\t Birth Day: October 21\n",
      "\t Cars: 2015-Fusion, 2011-Ranger, 2003-Excursion, 1997-F350, 1969-Cadillac\n",
      "\n",
      "Record #2: Luke Riggins\n",
      "\t Residence: San Diego\n",
      "\t Birth Day: December 2\n",
      "\t Cars: Volkswagon Passat\n",
      "\n",
      "Record #3: Luke Riggins\n",
      "\t Residence: Rancho Bernardo\n",
      "\t Birth Day: December 2\n",
      "\t Cars: Toyota\n",
      "\n",
      "Record #4: Jeffery Lee\n",
      "\t Residence: 4S Ranch\n",
      "\t Birth Day: December 27\n",
      "\t Cars: Honda Accord\n",
      "\n"
     ]
    }
   ],
   "source": [
    "for indx, record in enumerate(InfoDb):\n",
    "    print(\"Record #\" + str(indx+1) + \": \", end = \"\")\n",
    "    print_data(record)"
   ]
  },
  {
   "cell_type": "markdown",
   "metadata": {},
   "source": [
    "Reverse Order"
   ]
  },
  {
   "cell_type": "code",
   "execution_count": 8,
   "metadata": {},
   "outputs": [
    {
     "name": "stdout",
     "output_type": "stream",
     "text": [
      "Jeffery Lee\n",
      "\t Residence: 4S Ranch\n",
      "\t Birth Day: December 27\n",
      "\t Cars: Honda Accord\n",
      "\n",
      "Luke Riggins\n",
      "\t Residence: Rancho Bernardo\n",
      "\t Birth Day: December 2\n",
      "\t Cars: Toyota\n",
      "\n",
      "Luke Riggins\n",
      "\t Residence: San Diego\n",
      "\t Birth Day: December 2\n",
      "\t Cars: Volkswagon Passat\n",
      "\n",
      "John Mortensen\n",
      "\t Residence: San Diego\n",
      "\t Birth Day: October 21\n",
      "\t Cars: 2015-Fusion, 2011-Ranger, 2003-Excursion, 1997-F350, 1969-Cadillac\n",
      "\n"
     ]
    }
   ],
   "source": [
    "for record in reversed(InfoDb):\n",
    "    print_data(record)"
   ]
  }
 ],
 "metadata": {
  "kernelspec": {
   "display_name": "Python 3.8.2 64-bit",
   "language": "python",
   "name": "python3"
  },
  "language_info": {
   "codemirror_mode": {
    "name": "ipython",
    "version": 3
   },
   "file_extension": ".py",
   "mimetype": "text/x-python",
   "name": "python",
   "nbconvert_exporter": "python",
   "pygments_lexer": "ipython3",
   "version": "3.8.2"
  },
  "orig_nbformat": 4,
  "vscode": {
   "interpreter": {
    "hash": "31f2aee4e71d21fbe5cf8b01ff0e069b9275f58929596ceb00d14d90e3e16cd6"
   }
  }
 },
 "nbformat": 4,
 "nbformat_minor": 2
}
